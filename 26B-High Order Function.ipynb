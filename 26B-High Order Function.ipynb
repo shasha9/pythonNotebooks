{
 "cells": [
  {
   "cell_type": "markdown",
   "metadata": {},
   "source": [
    "# Nesting a function in another function"
   ]
  },
  {
   "cell_type": "markdown",
   "metadata": {},
   "source": [
    "## Inner and outer functions\n",
    "\n",
    "Let's start by defining a very basic nested function."
   ]
  },
  {
   "cell_type": "code",
   "execution_count": 10,
   "metadata": {},
   "outputs": [
    {
     "name": "stdout",
     "output_type": "stream",
     "text": [
      "I'm inner\n"
     ]
    }
   ],
   "source": [
    "def outer():\n",
    "    \n",
    "    def inner():\n",
    "        \n",
    "        print('I\\'m inner')\n",
    "    \n",
    "    inner()\n",
    "\n",
    "outer()\n",
    "#inner()"
   ]
  },
  {
   "cell_type": "markdown",
   "metadata": {},
   "source": [
    "Now let's all function refer to a variable `x`. This is *the same* variable, the global variable x, in all cases."
   ]
  },
  {
   "cell_type": "code",
   "execution_count": 11,
   "metadata": {},
   "outputs": [
    {
     "name": "stdout",
     "output_type": "stream",
     "text": [
      "Global (before): global\n",
      "Outer (before):\t global\n",
      "Inner:\t\t global\n",
      "Outer (after):\t global\n",
      "Global (after):  global\n"
     ]
    }
   ],
   "source": [
    "def outer():\n",
    "    \n",
    "    def inner():\n",
    "        \n",
    "        print('Inner:\\t\\t', x)\n",
    "    \n",
    "    print('Outer (before):\\t', x)\n",
    "    inner()\n",
    "    print('Outer (after):\\t', x)\n",
    "    \n",
    "x = 'global'\n",
    "print('Global (before):', x)\n",
    "outer()\n",
    "print('Global (after): ', x)"
   ]
  },
  {
   "cell_type": "markdown",
   "metadata": {},
   "source": [
    "## Controlling the variable scope with `global` and `nonlocal`\n",
    "\n",
    "But as soon as the function assign a new value to `x`, they create their own local variable `x`. So now there are three variables `x`: at the global level, at the level of `outer()`, and at the level of `inner()`. But we can change this using two statements:\n",
    "\n",
    "- `global` binds a variable to the global level\n",
    "- `nonlocal` (Python >= 3) binds a variable to one level higher"
   ]
  },
  {
   "cell_type": "code",
   "execution_count": 14,
   "metadata": {},
   "outputs": [
    {
     "name": "stdout",
     "output_type": "stream",
     "text": [
      "Global (before): global\n",
      "Outer (before):\t outer\n",
      "Inner:\t\t inner\n",
      "Outer (after):\t inner\n",
      "Global (after):  global\n"
     ]
    }
   ],
   "source": [
    "def outer():\n",
    "    \n",
    "    def inner():\n",
    "        \n",
    "        nonlocal x\n",
    "        #global x\n",
    "        x = 'inner'\n",
    "        print('Inner:\\t\\t', x)\n",
    "    \n",
    "    x = 'outer'\n",
    "    print('Outer (before):\\t', x)\n",
    "    inner()\n",
    "    print('Outer (after):\\t', x)\n",
    "\n",
    "    \n",
    "x = 'global'\n",
    "print('Global (before):', x)\n",
    "outer()\n",
    "print('Global (after): ', x)"
   ]
  },
  {
   "cell_type": "markdown",
   "metadata": {},
   "source": [
    "### Non local variable\n",
    "allows to assign to variables in an outer, but non-global, scope"
   ]
  },
  {
   "cell_type": "code",
   "execution_count": 15,
   "metadata": {},
   "outputs": [
    {
     "name": "stdout",
     "output_type": "stream",
     "text": [
      "Inside!\n",
      "Outside!\n"
     ]
    }
   ],
   "source": [
    "def outside():\n",
    "    msg = \"Outside!\"\n",
    "    def inside():\n",
    "        msg = \"Inside!\"\n",
    "        print(msg)\n",
    "    inside()\n",
    "    print(msg)\n",
    " \n",
    "outside()"
   ]
  },
  {
   "cell_type": "code",
   "execution_count": 16,
   "metadata": {},
   "outputs": [
    {
     "name": "stdout",
     "output_type": "stream",
     "text": [
      "Inside!\n",
      "Inside!\n"
     ]
    }
   ],
   "source": [
    "def outside():\n",
    "    msg = \"Outside!\"\n",
    "    def inside():\n",
    "        nonlocal msg\n",
    "        msg = \"Inside!\"\n",
    "        print(msg)\n",
    "    inside()\n",
    "    print(msg)\n",
    " \n",
    "outside()"
   ]
  },
  {
   "cell_type": "code",
   "execution_count": null,
   "metadata": {
    "collapsed": true
   },
   "outputs": [],
   "source": []
  }
 ],
 "metadata": {
  "kernelspec": {
   "display_name": "Python 3",
   "language": "python",
   "name": "python3"
  },
  "language_info": {
   "codemirror_mode": {
    "name": "ipython",
    "version": 3
   },
   "file_extension": ".py",
   "mimetype": "text/x-python",
   "name": "python",
   "nbconvert_exporter": "python",
   "pygments_lexer": "ipython3",
   "version": "3.6.3"
  }
 },
 "nbformat": 4,
 "nbformat_minor": 2
}
